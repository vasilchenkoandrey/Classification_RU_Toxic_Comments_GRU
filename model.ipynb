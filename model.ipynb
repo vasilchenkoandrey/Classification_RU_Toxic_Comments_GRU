{
 "cells": [
  {
   "cell_type": "code",
   "execution_count": 36,
   "metadata": {},
   "outputs": [],
   "source": [
    "import numpy as np\n",
    "\n",
    "import pandas as pd\n",
    "\n",
    "import nltk\n",
    "from nltk.corpus import stopwords\n",
    "\n",
    "from string import punctuation\n",
    "\n",
    "import pymorphy2\n",
    "\n",
    "import re\n",
    "\n",
    "from sklearn.model_selection import train_test_split\n",
    "from sklearn.metrics import roc_auc_score\n",
    "from sklearn.model_selection import GridSearchCV\n",
    "\n",
    "from keras.models import Model\n",
    "from tensorflow.keras.models import Sequential\n",
    "from keras.layers import Input, Dense, Embedding, SpatialDropout1D, concatenate\n",
    "from keras.layers import GRU, Bidirectional, GlobalAveragePooling1D, GlobalMaxPooling1D\n",
    "from keras.preprocessing import text, sequence\n",
    "from keras.callbacks import Callback\n",
    "\n",
    "import tensorflow as tf\n",
    "from tensorflow.keras.wrappers.scikit_learn import KerasClassifier\n",
    "\n",
    "import seaborn as sns\n",
    "import matplotlib.pyplot as plt"
   ]
  },
  {
   "cell_type": "code",
   "execution_count": 37,
   "metadata": {},
   "outputs": [],
   "source": [
    "def creat_df():\n",
    "    data_list = []\n",
    "    with open(\"dataset.txt\", encoding = 'utf-8') as file:\n",
    "        for line in file:\n",
    "            labels = line.split()[0]\n",
    "            text = line[len(labels)+1:].strip()\n",
    "            labels = labels.split(\",\")\n",
    "            mask = [1 if \"__label__NORMAL\" in labels else 0,\n",
    "                    1 if \"__label__INSULT\" in labels else 0,\n",
    "                    1 if \"__label__THREAT\" in labels else 0,\n",
    "                    1 if \"__label__OBSCENITY\" in labels else 0]\n",
    "            data_list.append((text, *mask))\n",
    "    return pd.DataFrame(data_list, columns=[\"comment\", \"normal\", \"insult\", \"threat\", \"obscenity\"])"
   ]
  },
  {
   "cell_type": "code",
   "execution_count": 38,
   "metadata": {},
   "outputs": [
    {
     "data": {
      "text/html": [
       "<div>\n",
       "<style scoped>\n",
       "    .dataframe tbody tr th:only-of-type {\n",
       "        vertical-align: middle;\n",
       "    }\n",
       "\n",
       "    .dataframe tbody tr th {\n",
       "        vertical-align: top;\n",
       "    }\n",
       "\n",
       "    .dataframe thead th {\n",
       "        text-align: right;\n",
       "    }\n",
       "</style>\n",
       "<table border=\"1\" class=\"dataframe\">\n",
       "  <thead>\n",
       "    <tr style=\"text-align: right;\">\n",
       "      <th></th>\n",
       "      <th>comment</th>\n",
       "      <th>normal</th>\n",
       "      <th>insult</th>\n",
       "      <th>threat</th>\n",
       "      <th>obscenity</th>\n",
       "    </tr>\n",
       "  </thead>\n",
       "  <tbody>\n",
       "    <tr>\n",
       "      <th>0</th>\n",
       "      <td></td>\n",
       "      <td>0</td>\n",
       "      <td>0</td>\n",
       "      <td>0</td>\n",
       "      <td>0</td>\n",
       "    </tr>\n",
       "    <tr>\n",
       "      <th>1</th>\n",
       "      <td>муж наверное дома кушать готовит</td>\n",
       "      <td>0</td>\n",
       "      <td>0</td>\n",
       "      <td>0</td>\n",
       "      <td>0</td>\n",
       "    </tr>\n",
       "    <tr>\n",
       "      <th>2</th>\n",
       "      <td>за что 3млн?</td>\n",
       "      <td>0</td>\n",
       "      <td>0</td>\n",
       "      <td>0</td>\n",
       "      <td>0</td>\n",
       "    </tr>\n",
       "    <tr>\n",
       "      <th>3</th>\n",
       "      <td>класс! девочки молодцы! гордиться вами нужно!!!</td>\n",
       "      <td>0</td>\n",
       "      <td>0</td>\n",
       "      <td>0</td>\n",
       "      <td>0</td>\n",
       "    </tr>\n",
       "    <tr>\n",
       "      <th>4</th>\n",
       "      <td>автор поста явно не русский!!!?</td>\n",
       "      <td>0</td>\n",
       "      <td>0</td>\n",
       "      <td>0</td>\n",
       "      <td>0</td>\n",
       "    </tr>\n",
       "    <tr>\n",
       "      <th>...</th>\n",
       "      <td>...</td>\n",
       "      <td>...</td>\n",
       "      <td>...</td>\n",
       "      <td>...</td>\n",
       "      <td>...</td>\n",
       "    </tr>\n",
       "    <tr>\n",
       "      <th>248286</th>\n",
       "      <td>это евгений леонов,а алексей леонов -космонавт.</td>\n",
       "      <td>0</td>\n",
       "      <td>0</td>\n",
       "      <td>0</td>\n",
       "      <td>0</td>\n",
       "    </tr>\n",
       "    <tr>\n",
       "      <th>248287</th>\n",
       "      <td>правильно всё по пять (5)...</td>\n",
       "      <td>0</td>\n",
       "      <td>0</td>\n",
       "      <td>0</td>\n",
       "      <td>0</td>\n",
       "    </tr>\n",
       "    <tr>\n",
       "      <th>248288</th>\n",
       "      <td>а у меня наверное рекорд в 1962 году в училище...</td>\n",
       "      <td>0</td>\n",
       "      <td>0</td>\n",
       "      <td>0</td>\n",
       "      <td>0</td>\n",
       "    </tr>\n",
       "    <tr>\n",
       "      <th>248289</th>\n",
       "      <td>спасибо всем большое)</td>\n",
       "      <td>0</td>\n",
       "      <td>0</td>\n",
       "      <td>0</td>\n",
       "      <td>0</td>\n",
       "    </tr>\n",
       "    <tr>\n",
       "      <th>248290</th>\n",
       "      <td>нельзя ли увеличить хотя бы в два раза некотор...</td>\n",
       "      <td>0</td>\n",
       "      <td>0</td>\n",
       "      <td>0</td>\n",
       "      <td>0</td>\n",
       "    </tr>\n",
       "  </tbody>\n",
       "</table>\n",
       "<p>248291 rows × 5 columns</p>\n",
       "</div>"
      ],
      "text/plain": [
       "                                                  comment  normal  insult  \\\n",
       "0                                                               0       0   \n",
       "1                        муж наверное дома кушать готовит       0       0   \n",
       "2                                            за что 3млн?       0       0   \n",
       "3         класс! девочки молодцы! гордиться вами нужно!!!       0       0   \n",
       "4                         автор поста явно не русский!!!?       0       0   \n",
       "...                                                   ...     ...     ...   \n",
       "248286    это евгений леонов,а алексей леонов -космонавт.       0       0   \n",
       "248287                       правильно всё по пять (5)...       0       0   \n",
       "248288  а у меня наверное рекорд в 1962 году в училище...       0       0   \n",
       "248289                              спасибо всем большое)       0       0   \n",
       "248290  нельзя ли увеличить хотя бы в два раза некотор...       0       0   \n",
       "\n",
       "        threat  obscenity  \n",
       "0            0          0  \n",
       "1            0          0  \n",
       "2            0          0  \n",
       "3            0          0  \n",
       "4            0          0  \n",
       "...        ...        ...  \n",
       "248286       0          0  \n",
       "248287       0          0  \n",
       "248288       0          0  \n",
       "248289       0          0  \n",
       "248290       0          0  \n",
       "\n",
       "[248291 rows x 5 columns]"
      ]
     },
     "execution_count": 38,
     "metadata": {},
     "output_type": "execute_result"
    }
   ],
   "source": [
    "df = creat_df()\n",
    "df"
   ]
  },
  {
   "cell_type": "code",
   "execution_count": 46,
   "metadata": {},
   "outputs": [
    {
     "data": {
      "text/html": [
       "<div>\n",
       "<style scoped>\n",
       "    .dataframe tbody tr th:only-of-type {\n",
       "        vertical-align: middle;\n",
       "    }\n",
       "\n",
       "    .dataframe tbody tr th {\n",
       "        vertical-align: top;\n",
       "    }\n",
       "\n",
       "    .dataframe thead th {\n",
       "        text-align: right;\n",
       "    }\n",
       "</style>\n",
       "<table border=\"1\" class=\"dataframe\">\n",
       "  <thead>\n",
       "    <tr style=\"text-align: right;\">\n",
       "      <th></th>\n",
       "      <th>comment</th>\n",
       "      <th>normal</th>\n",
       "      <th>insult</th>\n",
       "      <th>threat</th>\n",
       "      <th>obscenity</th>\n",
       "    </tr>\n",
       "  </thead>\n",
       "  <tbody>\n",
       "    <tr>\n",
       "      <th>0</th>\n",
       "      <td>скотина сказать</td>\n",
       "      <td>0</td>\n",
       "      <td>1</td>\n",
       "      <td>0</td>\n",
       "      <td>0</td>\n",
       "    </tr>\n",
       "    <tr>\n",
       "      <th>1</th>\n",
       "      <td>сегодня проезжала рабочей домами снитенко гомо...</td>\n",
       "      <td>1</td>\n",
       "      <td>0</td>\n",
       "      <td>0</td>\n",
       "      <td>0</td>\n",
       "    </tr>\n",
       "    <tr>\n",
       "      <th>2</th>\n",
       "      <td>очередной лохотрон придумывать очередной налог...</td>\n",
       "      <td>1</td>\n",
       "      <td>0</td>\n",
       "      <td>0</td>\n",
       "      <td>0</td>\n",
       "    </tr>\n",
       "    <tr>\n",
       "      <th>3</th>\n",
       "      <td>ретро дежавю сложно понять чужое сердце лиш ощ...</td>\n",
       "      <td>1</td>\n",
       "      <td>0</td>\n",
       "      <td>0</td>\n",
       "      <td>0</td>\n",
       "    </tr>\n",
       "    <tr>\n",
       "      <th>4</th>\n",
       "      <td>статус агрогородка получили</td>\n",
       "      <td>1</td>\n",
       "      <td>0</td>\n",
       "      <td>0</td>\n",
       "      <td>0</td>\n",
       "    </tr>\n",
       "    <tr>\n",
       "      <th>...</th>\n",
       "      <td>...</td>\n",
       "      <td>...</td>\n",
       "      <td>...</td>\n",
       "      <td>...</td>\n",
       "      <td>...</td>\n",
       "    </tr>\n",
       "    <tr>\n",
       "      <th>248285</th>\n",
       "      <td>правильно пять</td>\n",
       "      <td>1</td>\n",
       "      <td>0</td>\n",
       "      <td>0</td>\n",
       "      <td>0</td>\n",
       "    </tr>\n",
       "    <tr>\n",
       "      <th>248286</th>\n",
       "      <td>ебанные нубы заходите сервер ник creepro пвп п...</td>\n",
       "      <td>0</td>\n",
       "      <td>1</td>\n",
       "      <td>0</td>\n",
       "      <td>0</td>\n",
       "    </tr>\n",
       "    <tr>\n",
       "      <th>248287</th>\n",
       "      <td>наверное рекорд году училище коренной зуб возм...</td>\n",
       "      <td>1</td>\n",
       "      <td>0</td>\n",
       "      <td>0</td>\n",
       "      <td>0</td>\n",
       "    </tr>\n",
       "    <tr>\n",
       "      <th>248288</th>\n",
       "      <td>спасибо всем большое</td>\n",
       "      <td>1</td>\n",
       "      <td>0</td>\n",
       "      <td>0</td>\n",
       "      <td>0</td>\n",
       "    </tr>\n",
       "    <tr>\n",
       "      <th>248289</th>\n",
       "      <td>увеличить хотя раза некоторые хранилища такие ...</td>\n",
       "      <td>1</td>\n",
       "      <td>0</td>\n",
       "      <td>0</td>\n",
       "      <td>0</td>\n",
       "    </tr>\n",
       "  </tbody>\n",
       "</table>\n",
       "<p>248290 rows × 5 columns</p>\n",
       "</div>"
      ],
      "text/plain": [
       "                                                  comment  normal  insult  \\\n",
       "0                                         скотина сказать       0       1   \n",
       "1       сегодня проезжала рабочей домами снитенко гомо...       1       0   \n",
       "2       очередной лохотрон придумывать очередной налог...       1       0   \n",
       "3       ретро дежавю сложно понять чужое сердце лиш ощ...       1       0   \n",
       "4                             статус агрогородка получили       1       0   \n",
       "...                                                   ...     ...     ...   \n",
       "248285                                     правильно пять       1       0   \n",
       "248286  ебанные нубы заходите сервер ник creepro пвп п...       0       1   \n",
       "248287  наверное рекорд году училище коренной зуб возм...       1       0   \n",
       "248288                               спасибо всем большое       1       0   \n",
       "248289  увеличить хотя раза некоторые хранилища такие ...       1       0   \n",
       "\n",
       "        threat  obscenity  \n",
       "0            0          0  \n",
       "1            0          0  \n",
       "2            0          0  \n",
       "3            0          0  \n",
       "4            0          0  \n",
       "...        ...        ...  \n",
       "248285       0          0  \n",
       "248286       0          0  \n",
       "248287       0          0  \n",
       "248288       0          0  \n",
       "248289       0          0  \n",
       "\n",
       "[248290 rows x 5 columns]"
      ]
     },
     "execution_count": 46,
     "metadata": {},
     "output_type": "execute_result"
    }
   ],
   "source": [
    "#Lemmatizzation + preprocessed\n",
    "df = pd.read_csv('lemmatization+preprocessed.csv')\n",
    "df['comment'] = df['comment'].astype(str)\n",
    "df = df.drop('Unnamed: 0', axis=1)\n",
    "df"
   ]
  },
  {
   "cell_type": "markdown",
   "metadata": {},
   "source": [
    "### Splitting into training and test datasets"
   ]
  },
  {
   "cell_type": "code",
   "execution_count": 47,
   "metadata": {},
   "outputs": [],
   "source": [
    "df_train, df_test = train_test_split(df, train_size=0.8)"
   ]
  },
  {
   "cell_type": "code",
   "execution_count": 48,
   "metadata": {},
   "outputs": [
    {
     "name": "stdout",
     "output_type": "stream",
     "text": [
      "Training data shape:  (198632, 5)\n",
      "Testing data shape:  (49658, 5)\n"
     ]
    }
   ],
   "source": [
    "print(\"Training data shape: \", df_train.shape)\n",
    "print(\"Testing data shape: \",df_test.shape)"
   ]
  },
  {
   "cell_type": "markdown",
   "metadata": {},
   "source": [
    "### Clean Text"
   ]
  },
  {
   "cell_type": "code",
   "execution_count": 49,
   "metadata": {},
   "outputs": [],
   "source": [
    "def preprocess_text(text):\n",
    "    text = text.replace(\"ё\", \"е\")\n",
    "    text = re.sub('((www\\.[^\\s]+)|(https?://[^\\s]+))', 'URL', text)\n",
    "    text = re.sub('[^a-zA-Zа-яА-Я]+', ' ', text)\n",
    "    text = re.sub(' +', ' ', text)\n",
    "    text = text.lower()\n",
    "    text = \"\".join(text)\n",
    "    return text.strip()"
   ]
  },
  {
   "cell_type": "code",
   "execution_count": null,
   "metadata": {},
   "outputs": [],
   "source": [
    "df_train['comment'] = df_train['comment'].apply(preprocess_text).apply(lambda x: preprocess_text(x))\n",
    "df_test['comment'] = df_test['comment'].apply(preprocess_text).apply(lambda x: preprocess_text(x))"
   ]
  },
  {
   "cell_type": "code",
   "execution_count": 51,
   "metadata": {},
   "outputs": [
    {
     "data": {
      "text/plain": [
       "4102                                     кому сказала храпи\n",
       "68929                              заказывала очень сделать\n",
       "245724    начальной школе ребенок учился очень одаренные...\n",
       "215071    хаять молодежь это удобно руки свободны спина ...\n",
       "168095                                      алейкум ассалом\n",
       "                                ...                        \n",
       "129393    москве россию скажу омской области поставили з...\n",
       "69654     завидую просыпается видит море ok ru profile p...\n",
       "2905      всей россии пора встать лет убили разарили мен...\n",
       "221352    днем рождения бабулечка здоровья тебе радости ...\n",
       "60723                                 дааа занималась жизни\n",
       "Name: comment, Length: 198632, dtype: object"
      ]
     },
     "execution_count": 51,
     "metadata": {},
     "output_type": "execute_result"
    }
   ],
   "source": [
    "df_train['comment']"
   ]
  },
  {
   "cell_type": "code",
   "execution_count": 52,
   "metadata": {},
   "outputs": [
    {
     "name": "stderr",
     "output_type": "stream",
     "text": [
      "C:\\Users\\ADMIN\\anaconda3\\lib\\site-packages\\seaborn\\_decorators.py:36: FutureWarning: Pass the following variables as keyword args: x, y. From version 0.12, the only valid positional argument will be `data`, and passing other arguments without an explicit keyword will result in an error or misinterpretation.\n",
      "  warnings.warn(\n"
     ]
    },
    {
     "data": {
      "image/png": "[encoded data removed]",
      "text/plain": [
       "<Figure size 720x504 with 1 Axes>"
      ]
     },
     "metadata": {},
     "output_type": "display_data"
    }
   ],
   "source": [
    "plt.style.use('fivethirtyeight')\n",
    "\n",
    "colors_ = [\"deep blue\",\"blue\", \"teal\", \"lightblue\",\"darkblue\",\"purple\"]\n",
    "\n",
    "palette= sns.xkcd_palette(colors_)\n",
    "\n",
    "x = df_train.iloc[:,1:].sum()\n",
    "\n",
    "plt.figure(figsize=(10,7))\n",
    "\n",
    "ax= sns.barplot(x.index, x.values,palette=palette)\n",
    "plt.title(\"Распределение классов в обучающей выборке\")\n",
    "plt.xlabel('Класс')\n",
    "plt.ylabel('Кол-во комментариев', fontsize=11)\n",
    "\n",
    "patch = ax.patches\n",
    "labels = x.values\n",
    "for rect, label in zip(patch, labels):\n",
    "    height = rect.get_height()\n",
    "    ax.text(rect.get_x() + rect.get_width()/2, height + 10, label, va='bottom',ha='center')\n",
    "\n",
    "plt.show()"
   ]
  },
  {
   "cell_type": "code",
   "execution_count": 54,
   "metadata": {},
   "outputs": [
    {
     "name": "stderr",
     "output_type": "stream",
     "text": [
      "<ipython-input-54-9103cc476347>:4: UserWarning: To output multiple subplots, the figure containing the passed axes is being cleared\n",
      "  df_train.hist(ax = ax,edgecolor = 'black',facecolor = 'lightblue',bins = 12,linewidth = 1.3)\n"
     ]
    },
    {
     "data": {
      "image/png": "[encoded data removed]",
      "text/plain": [
       "<Figure size 1008x1008 with 4 Axes>"
      ]
     },
     "metadata": {},
     "output_type": "display_data"
    }
   ],
   "source": [
    "# plot distribution of training labels\n",
    "fig = plt.figure(figsize = (14,14))\n",
    "ax = fig.gca()\n",
    "df_train.hist(ax = ax,edgecolor = 'black',facecolor = 'lightblue',bins = 12,linewidth = 1.3)\n",
    "plt.suptitle('Распределение классов в обучающей выборке',y = 0.93,size = 14)\n",
    "plt.xlabel(\"Класс\")\n",
    "plt.ylabel(\"Количество комментариев\")\n",
    "plt.show()"
   ]
  },
  {
   "cell_type": "markdown",
   "metadata": {},
   "source": [
    "> * Можно заметить, что существует высокий дисбаланс между классами.\n",
    "> * Большенство значений равно нулю для всех классов, кроме класса \"normal\", унего ситуация обратная."
   ]
  },
  {
   "cell_type": "code",
   "execution_count": 55,
   "metadata": {},
   "outputs": [
    {
     "data": {
      "image/png": "[encoded data removed]",
      "text/plain": [
       "<Figure size 648x504 with 2 Axes>"
      ]
     },
     "metadata": {},
     "output_type": "display_data"
    }
   ],
   "source": [
    "# heatmap for training data\n",
    "fig = plt.figure(figsize = (9,7))\n",
    "sns.heatmap(df_train.drop('normal', axis = 1).corr(), annot=True,cmap=\"Blues\")\n",
    "plt.suptitle('Heatmap корреляции классов',size = 14)\n",
    "plt.xlabel(\"Class\")\n",
    "plt.ylabel(\"Class\")\n",
    "plt.show()"
   ]
  },
  {
   "cell_type": "markdown",
   "metadata": {},
   "source": [
    "> * Корреляция классов очень низкая, например:\n",
    ">   * threat и insult = 0.25;\n",
    ">   * threat и obscenity = 0.0077;\n",
    ">   * insult и obscenity = 0.11;\n",
    "> * Это значит что если в сообщении есть угроза, то в нём присутствует             оскорбления с вероятностью 25%, а если сообщение непристойное, то с             вероятностью 0,007 в нем содержится угроза."
   ]
  },
  {
   "cell_type": "markdown",
   "metadata": {},
   "source": [
    "> Для устранения дисбаланса следует выполнить некоторую недостаточную или избыточную дискретизацию"
   ]
  },
  {
   "cell_type": "markdown",
   "metadata": {},
   "source": [
    "### Under Sampling"
   ]
  },
  {
   "cell_type": "markdown",
   "metadata": {},
   "source": [
    "* SMOTE(Метод синтетической передискретизации меньшинства), RandomOverSampler и RandomUnderSampler являются эффективными методами для выполнения передискретизации или недискретизации, но они плохо работают, когда в наборе данных существует огромный дисбаланс и очень мало выборок для определенного класса. Таким образом, эти методы не очень хорошо вписываются в этот набор данных.\n",
    "* Отбросим 35% нетоксичных комментариев.\n",
    "* Число 35% выбрано, чтобы не уменьшать набор данных на большую величину и все еще иметь достаточно комментариев, которые не являются токсичными для эффективного обучения модели."
   ]
  },
  {
   "cell_type": "code",
   "execution_count": 25,
   "metadata": {},
   "outputs": [
    {
     "data": {
      "text/plain": [
       "Int64Index([], dtype='int64')"
      ]
     },
     "execution_count": 25,
     "metadata": {},
     "output_type": "execute_result"
    }
   ],
   "source": [
    "# сохраним в переменную индексы нетоксических сообщений\n",
    "normal_class = df_train[df_train['normal'] > 0].index\n",
    "normal_class"
   ]
  },
  {
   "cell_type": "code",
   "execution_count": 26,
   "metadata": {},
   "outputs": [
    {
     "data": {
      "text/plain": [
       "0.0"
      ]
     },
     "execution_count": 26,
     "metadata": {},
     "output_type": "execute_result"
    }
   ],
   "source": [
    "# вычислим 30% сообщений из выборки\n",
    "part30percent = (len(normal_class)*30)/100\n",
    "part30percent"
   ]
  },
  {
   "cell_type": "code",
   "execution_count": 27,
   "metadata": {},
   "outputs": [
    {
     "data": {
      "text/plain": [
       "Int64Index([], dtype='int64')"
      ]
     },
     "execution_count": 27,
     "metadata": {},
     "output_type": "execute_result"
    }
   ],
   "source": [
    "# из найденных индексов выберем первые 35%\n",
    "drop_part_normal_class = normal_class[ : round(part30percent)]\n",
    "drop_part_normal_class"
   ]
  },
  {
   "cell_type": "code",
   "execution_count": 28,
   "metadata": {},
   "outputs": [
    {
     "data": {
      "text/plain": [
       "(0,)"
      ]
     },
     "execution_count": 28,
     "metadata": {},
     "output_type": "execute_result"
    }
   ],
   "source": [
    "drop_part_normal_class.shape"
   ]
  },
  {
   "cell_type": "code",
   "execution_count": 29,
   "metadata": {},
   "outputs": [],
   "source": [
    "# Удаляем первые 57069 (35%) строк из класса normal (не токсические сообщения)\n",
    "df_train = df_train.drop(drop_part_normal_class, axis=0)"
   ]
  },
  {
   "cell_type": "code",
   "execution_count": 30,
   "metadata": {},
   "outputs": [
    {
     "data": {
      "text/plain": [
       "(198632, 5)"
      ]
     },
     "execution_count": 30,
     "metadata": {},
     "output_type": "execute_result"
    }
   ],
   "source": [
    "df_train.shape"
   ]
  },
  {
   "cell_type": "code",
   "execution_count": 31,
   "metadata": {},
   "outputs": [
    {
     "data": {
      "text/html": [
       "<div>\n",
       "<style scoped>\n",
       "    .dataframe tbody tr th:only-of-type {\n",
       "        vertical-align: middle;\n",
       "    }\n",
       "\n",
       "    .dataframe tbody tr th {\n",
       "        vertical-align: top;\n",
       "    }\n",
       "\n",
       "    .dataframe thead th {\n",
       "        text-align: right;\n",
       "    }\n",
       "</style>\n",
       "<table border=\"1\" class=\"dataframe\">\n",
       "  <thead>\n",
       "    <tr style=\"text-align: right;\">\n",
       "      <th></th>\n",
       "      <th>comment</th>\n",
       "      <th>normal</th>\n",
       "      <th>insult</th>\n",
       "      <th>threat</th>\n",
       "      <th>obscenity</th>\n",
       "    </tr>\n",
       "  </thead>\n",
       "  <tbody>\n",
       "    <tr>\n",
       "      <th>90777</th>\n",
       "      <td>сэм вот что у тебя с еблом вдули так что перек...</td>\n",
       "      <td>0</td>\n",
       "      <td>0</td>\n",
       "      <td>0</td>\n",
       "      <td>0</td>\n",
       "    </tr>\n",
       "    <tr>\n",
       "      <th>44573</th>\n",
       "      <td>там всю жизнь так было</td>\n",
       "      <td>0</td>\n",
       "      <td>0</td>\n",
       "      <td>0</td>\n",
       "      <td>0</td>\n",
       "    </tr>\n",
       "    <tr>\n",
       "      <th>73160</th>\n",
       "      <td>дочка делает всегда быстро и вкусно</td>\n",
       "      <td>0</td>\n",
       "      <td>0</td>\n",
       "      <td>0</td>\n",
       "      <td>0</td>\n",
       "    </tr>\n",
       "    <tr>\n",
       "      <th>211473</th>\n",
       "      <td>не понимаю что за хрень морские тигры</td>\n",
       "      <td>0</td>\n",
       "      <td>0</td>\n",
       "      <td>0</td>\n",
       "      <td>0</td>\n",
       "    </tr>\n",
       "    <tr>\n",
       "      <th>1979</th>\n",
       "      <td>спокойной ночи и вам</td>\n",
       "      <td>0</td>\n",
       "      <td>0</td>\n",
       "      <td>0</td>\n",
       "      <td>0</td>\n",
       "    </tr>\n",
       "    <tr>\n",
       "      <th>...</th>\n",
       "      <td>...</td>\n",
       "      <td>...</td>\n",
       "      <td>...</td>\n",
       "      <td>...</td>\n",
       "      <td>...</td>\n",
       "    </tr>\n",
       "    <tr>\n",
       "      <th>138075</th>\n",
       "      <td>просто ппц эта тыква себя в зеркало видит хоть...</td>\n",
       "      <td>0</td>\n",
       "      <td>0</td>\n",
       "      <td>0</td>\n",
       "      <td>0</td>\n",
       "    </tr>\n",
       "    <tr>\n",
       "      <th>4036</th>\n",
       "      <td>я такого выкармливала купить можно специальную...</td>\n",
       "      <td>0</td>\n",
       "      <td>0</td>\n",
       "      <td>0</td>\n",
       "      <td>0</td>\n",
       "    </tr>\n",
       "    <tr>\n",
       "      <th>190636</th>\n",
       "      <td>я бы такому пидару член ко рту подставить</td>\n",
       "      <td>0</td>\n",
       "      <td>0</td>\n",
       "      <td>0</td>\n",
       "      <td>0</td>\n",
       "    </tr>\n",
       "    <tr>\n",
       "      <th>8528</th>\n",
       "      <td>цена вопроса от стакана до поллитры никогда ещ...</td>\n",
       "      <td>0</td>\n",
       "      <td>0</td>\n",
       "      <td>0</td>\n",
       "      <td>0</td>\n",
       "    </tr>\n",
       "    <tr>\n",
       "      <th>179050</th>\n",
       "      <td>не самоловы а селки в списке пойманых добавте ...</td>\n",
       "      <td>0</td>\n",
       "      <td>0</td>\n",
       "      <td>0</td>\n",
       "      <td>0</td>\n",
       "    </tr>\n",
       "  </tbody>\n",
       "</table>\n",
       "<p>198632 rows × 5 columns</p>\n",
       "</div>"
      ],
      "text/plain": [
       "                                                  comment  normal  insult  \\\n",
       "90777   сэм вот что у тебя с еблом вдули так что перек...       0       0   \n",
       "44573                              там всю жизнь так было       0       0   \n",
       "73160                 дочка делает всегда быстро и вкусно       0       0   \n",
       "211473              не понимаю что за хрень морские тигры       0       0   \n",
       "1979                                 спокойной ночи и вам       0       0   \n",
       "...                                                   ...     ...     ...   \n",
       "138075  просто ппц эта тыква себя в зеркало видит хоть...       0       0   \n",
       "4036    я такого выкармливала купить можно специальную...       0       0   \n",
       "190636          я бы такому пидару член ко рту подставить       0       0   \n",
       "8528    цена вопроса от стакана до поллитры никогда ещ...       0       0   \n",
       "179050  не самоловы а селки в списке пойманых добавте ...       0       0   \n",
       "\n",
       "        threat  obscenity  \n",
       "90777        0          0  \n",
       "44573        0          0  \n",
       "73160        0          0  \n",
       "211473       0          0  \n",
       "1979         0          0  \n",
       "...        ...        ...  \n",
       "138075       0          0  \n",
       "4036         0          0  \n",
       "190636       0          0  \n",
       "8528         0          0  \n",
       "179050       0          0  \n",
       "\n",
       "[198632 rows x 5 columns]"
      ]
     },
     "execution_count": 31,
     "metadata": {},
     "output_type": "execute_result"
    }
   ],
   "source": [
    "df_train"
   ]
  },
  {
   "cell_type": "code",
   "execution_count": 32,
   "metadata": {},
   "outputs": [],
   "source": [
    "# определим тренировочные и тестовые признаки\n",
    "feature_train = df_train['comment'].values\n",
    "feature_test = df_test['comment'].values\n",
    "\n",
    "# определим тренировочные и тестовые классы\n",
    "target_train = df_train.drop('comment', axis = 1).values\n",
    "target_test = df_test.drop('comment', axis = 1).values"
   ]
  },
  {
   "cell_type": "code",
   "execution_count": 33,
   "metadata": {},
   "outputs": [
    {
     "name": "stdout",
     "output_type": "stream",
     "text": [
      "feature_train:\n",
      "['сэм вот что у тебя с еблом вдули так что перекосило'\n",
      " 'там всю жизнь так было' 'дочка делает всегда быстро и вкусно']\n",
      "\n",
      "\n",
      "feature_test:\n",
      "['тут родственники не хотят общаться что говорить о соседях'\n",
      " 'а этого пидора кто опять выпустил'\n",
      " 'это конечно печально но у вас должен быть договор и чеки об оплате обратитесь в полицию']\n",
      "\n",
      "\n",
      "target_train:\n",
      "[[0 0 0 0]\n",
      " [0 0 0 0]\n",
      " [0 0 0 0]]\n",
      "\n",
      "\n",
      "target_test:\n",
      "[[0 0 0 0]\n",
      " [0 0 0 0]\n",
      " [0 0 0 0]]\n"
     ]
    }
   ],
   "source": [
    "print(\"feature_train:\\n\", feature_train[:3], \n",
    "      \"\\n\\n\\nfeature_test:\\n\", feature_test[:3], \n",
    "      \"\\n\\n\\ntarget_train:\\n\", target_train[:3], \n",
    "      \"\\n\\n\\ntarget_test:\\n\", target_test[:3], sep='')"
   ]
  },
  {
   "cell_type": "markdown",
   "metadata": {},
   "source": [
    "### Data Processing"
   ]
  },
  {
   "cell_type": "markdown",
   "metadata": {},
   "source": [
    "#### Tokenize and pad the text data"
   ]
  },
  {
   "cell_type": "code",
   "execution_count": 34,
   "metadata": {},
   "outputs": [],
   "source": [
    "max_features = 30000\n",
    "maxlen = 300\n",
    "\n",
    "tokenizer = text.Tokenizer(num_words=max_features)\n",
    "tokenizer.fit_on_texts(list(feature_train)+list(feature_test))\n",
    "\n",
    "token_feature_train = tokenizer.texts_to_sequences(feature_train)\n",
    "token_feature_test = tokenizer.texts_to_sequences(feature_test)\n",
    "\n",
    "feature_train = sequence.pad_sequences(token_feature_train, maxlen=maxlen)\n",
    "feature_test = sequence.pad_sequences(token_feature_test, maxlen=maxlen)"
   ]
  },
  {
   "cell_type": "markdown",
   "metadata": {},
   "source": [
    "#### Embeddings"
   ]
  },
  {
   "cell_type": "code",
   "execution_count": 39,
   "metadata": {},
   "outputs": [],
   "source": [
    "EMBEDDING_FILE = 'cc.ru.300.vec'\n",
    "embed_size = 300"
   ]
  },
  {
   "cell_type": "code",
   "execution_count": 40,
   "metadata": {},
   "outputs": [],
   "source": [
    "def get_coefs(word, *arr): \n",
    "    return word, np.asarray(arr, dtype='float32')\n",
    "\n",
    "embeddings_index = dict(get_coefs(*o.rstrip().rsplit(' ')) for o in open(EMBEDDING_FILE, encoding='utf-8'))"
   ]
  },
  {
   "cell_type": "code",
   "execution_count": 41,
   "metadata": {},
   "outputs": [],
   "source": [
    "word_index = tokenizer.word_index\n",
    "nb_words = min(max_features, len(word_index))\n",
    "embedding_matrix = np.zeros((nb_words, embed_size))\n",
    "for word, i in word_index.items():\n",
    "    if i >= max_features: continue\n",
    "    embedding_vector = embeddings_index.get(word)\n",
    "    if embedding_vector is not None: embedding_matrix[i] = embedding_vector"
   ]
  },
  {
   "cell_type": "code",
   "execution_count": 42,
   "metadata": {},
   "outputs": [],
   "source": [
    "#plot accuracy and loss curves\n",
    "def plot_history(history):\n",
    "    \n",
    "    plt.figure(figsize=(8,5),linewidth = 7, edgecolor=\"whitesmoke\")    \n",
    "    n = len(history.history['accuracy'])\n",
    "    \n",
    "    plt.plot(np.arange(0,n)+1,history.history['accuracy'], color='orange',marker=\".\")\n",
    "    plt.plot(np.arange(0,n)+1,history.history['loss'],'b',marker=\".\")\n",
    "    \n",
    "    # offset both validation curves\n",
    "    plt.plot(np.arange(0,n)+ 1,history.history['val_accuracy'],'r')  \n",
    "    plt.plot(np.arange(0,n)+ 1,history.history['val_loss'],'g')\n",
    "    \n",
    "    plt.legend(['Train Acc','Train Loss','Val Acc','Val Loss'])\n",
    "    plt.grid(True)\n",
    "    \n",
    "    # set vertical limit to 1\n",
    "    plt.gca().set_ylim(0,1)\n",
    "\n",
    "    plt.xlabel(\"Number of Epochs\")\n",
    "    plt.ylabel(\"Value\")\n",
    "    plt.suptitle(\"Learning Curve\", size=16, y=0.927)\n",
    "    plt.show()"
   ]
  },
  {
   "cell_type": "code",
   "execution_count": 43,
   "metadata": {},
   "outputs": [],
   "source": [
    "# функция для оценки модели на валидационной выборке\n",
    "def model_evalulate(model_name):\n",
    "    \n",
    "    testres = model_name.evaluate(feature_test, target_test, verbose=0)\n",
    "    \n",
    "    print(\"Validation set\")\n",
    "    print('loss:', testres[0])\n",
    "    print(\"accuracy:\" ,testres[1])"
   ]
  },
  {
   "cell_type": "markdown",
   "metadata": {},
   "source": [
    "### Data Modelling"
   ]
  },
  {
   "cell_type": "code",
   "execution_count": 47,
   "metadata": {},
   "outputs": [],
   "source": [
    "def model_grn():\n",
    "    inp = Input(shape=(maxlen, ))\n",
    "    x = Embedding(max_features, embed_size, weights=[embedding_matrix])(inp)\n",
    "    x = SpatialDropout1D(0.2)(x)\n",
    "    x = Bidirectional(GRU(80, return_sequences=True))(x)\n",
    "    avg_pool = GlobalAveragePooling1D()(x)\n",
    "    max_pool = GlobalMaxPooling1D()(x)\n",
    "    conc = concatenate([avg_pool, max_pool])\n",
    "    outp = Dense(4, activation=\"sigmoid\")(conc)\n",
    "    model = Model(inputs=inp, outputs=outp)\n",
    "    \n",
    "    model.compile(loss='binary_crossentropy',\n",
    "                         optimizer='adam',\n",
    "                         metrics=['accuracy', 'AUC', tf.keras.metrics.Recall(), tf.keras.metrics.Precision()])\n",
    "    \n",
    "    return model"
   ]
  },
  {
   "cell_type": "code",
   "execution_count": 48,
   "metadata": {},
   "outputs": [],
   "source": [
    "# функция для компиляции и подгонки модели\n",
    "def model_run(X, y, batch_size, n_epochs):\n",
    "    \n",
    "    # call model_cnn to compile the model\n",
    "    model = model_grn()\n",
    "    \n",
    "    # fit the model\n",
    "    history = model.fit(X, y,\n",
    "              batch_size = batch_size,\n",
    "              epochs = n_epochs,\n",
    "              validation_split=0.1)\n",
    "    \n",
    "    return (history, model)"
   ]
  },
  {
   "cell_type": "code",
   "execution_count": 49,
   "metadata": {},
   "outputs": [],
   "source": [
    "batch_size = 32\n",
    "n_epochs = 4"
   ]
  },
  {
   "cell_type": "code",
   "execution_count": 50,
   "metadata": {},
   "outputs": [
    {
     "name": "stdout",
     "output_type": "stream",
     "text": [
      "Epoch 1/4\n",
      "4211/4211 [==============================] - 2801s 665ms/step - loss: 0.1044 - accuracy: 0.9273 - auc: 0.9897 - recall: 0.9223 - precision: 0.9395 - val_loss: 0.0622 - val_accuracy: 0.9568 - val_auc: 0.9958 - val_recall: 0.9549 - val_precision: 0.9644\n",
      "Epoch 2/4\n",
      "4211/4211 [==============================] - 3866s 918ms/step - loss: 0.0623 - accuracy: 0.9505 - auc: 0.9959 - recall: 0.9558 - precision: 0.9635 - val_loss: 0.0644 - val_accuracy: 0.9514 - val_auc: 0.9952 - val_recall: 0.9541 - val_precision: 0.9642\n",
      "Epoch 3/4\n",
      "4211/4211 [==============================] - 3047s 724ms/step - loss: 0.0427 - accuracy: 0.9602 - auc: 0.9978 - recall: 0.9700 - precision: 0.9751 - val_loss: 0.0784 - val_accuracy: 0.9478 - val_auc: 0.9925 - val_recall: 0.9490 - val_precision: 0.9562\n",
      "Epoch 4/4\n",
      "4211/4211 [==============================] - 3003s 713ms/step - loss: 0.0291 - accuracy: 0.9667 - auc: 0.9988 - recall: 0.9800 - precision: 0.9840 - val_loss: 0.0948 - val_accuracy: 0.9426 - val_auc: 0.9904 - val_recall: 0.9468 - val_precision: 0.9455\n"
     ]
    }
   ],
   "source": [
    "history_1, model_1 = model_run(feature_train, target_train, batch_size, n_epochs)"
   ]
  },
  {
   "cell_type": "code",
   "execution_count": 51,
   "metadata": {},
   "outputs": [
    {
     "data": {
      "image/png": "[encoded data removed]",
      "text/plain": [
       "<Figure size 576x360 with 1 Axes>"
      ]
     },
     "metadata": {},
     "output_type": "display_data"
    }
   ],
   "source": [
    "plot_history(history_1)"
   ]
  },
  {
   "cell_type": "code",
   "execution_count": 52,
   "metadata": {},
   "outputs": [
    {
     "name": "stdout",
     "output_type": "stream",
     "text": [
      "Validation set\n",
      "loss: 0.10024529695510864\n",
      "accuracy: 0.941801905632019\n"
     ]
    }
   ],
   "source": [
    "model_evalulate(model_1)"
   ]
  },
  {
   "cell_type": "markdown",
   "metadata": {},
   "source": [
    "### Optimisation"
   ]
  },
  {
   "cell_type": "markdown",
   "metadata": {},
   "source": [
    "> * Воспользуемся поиском по сетке для оптимизации.\n",
    "> * Поскольку поиск по сетке занимает довольно много времени, будем брать первые 30 000 признаков обучающих данных, ."
   ]
  },
  {
   "cell_type": "markdown",
   "metadata": {},
   "source": [
    "#### Grid Search for batch size and epoch"
   ]
  },
  {
   "cell_type": "markdown",
   "metadata": {},
   "source": [
    "> * Размер партии от 32 до 100 выбирается для определения оптимального размера.\n",
    "> * Используются эпохи от 3 до 6.\n",
    "> * Реализована перекрестная проверка 3"
   ]
  },
  {
   "cell_type": "code",
   "execution_count": null,
   "metadata": {},
   "outputs": [],
   "source": [
    "%%time\n",
    "seed = 7\n",
    "np.random.seed(seed)\n",
    "model = KerasClassifier(build_fn = model_grn, verbose=1)\n",
    "\n",
    "batch_size = [32,40,50]\n",
    "epochs = [3,4,5]\n",
    "\n",
    "param_grid = dict(batch_size = batch_size, \n",
    "                  epochs = epochs)\n",
    "\n",
    "#Grid search for best parameter\n",
    "grid = GridSearchCV(estimator = model, param_grid = param_grid, cv = 3)\n",
    "\n",
    "grid_result = grid.fit(feature_train[:3000], target_train[:3000])"
   ]
  },
  {
   "cell_type": "code",
   "execution_count": 121,
   "metadata": {},
   "outputs": [
    {
     "name": "stdout",
     "output_type": "stream",
     "text": [
      "Top score: 0.868000 by using {'batch_size': 32, 'epochs': 5}\n",
      "\n",
      "0.851667 (0.002055) using {'batch_size': 32, 'epochs': 3}\n",
      "0.863667 (0.020726) using {'batch_size': 32, 'epochs': 4}\n",
      "0.868000 (0.009626) using {'batch_size': 32, 'epochs': 5}\n",
      "0.854667 (0.013888) using {'batch_size': 40, 'epochs': 3}\n",
      "0.863667 (0.020758) using {'batch_size': 40, 'epochs': 4}\n",
      "0.849333 (0.020806) using {'batch_size': 40, 'epochs': 5}\n",
      "0.845333 (0.015326) using {'batch_size': 50, 'epochs': 3}\n",
      "0.857333 (0.020072) using {'batch_size': 50, 'epochs': 4}\n",
      "0.865000 (0.015122) using {'batch_size': 50, 'epochs': 5}\n"
     ]
    }
   ],
   "source": [
    "# распечатать результат поиска по сетке\n",
    "print(\"Top score: %f by using %s\" % (grid_result.best_score_, grid_result.best_params_))\n",
    "print()\n",
    "\n",
    "top_batch_size = grid_result.best_params_.get('batch_size') #32\n",
    "top_epochs = grid_result.best_params_.get('epochs') #4\n",
    "\n",
    "mean_score = grid_result.cv_results_['mean_test_score']\n",
    "paramaters = grid_result.cv_results_['params']\n",
    "std_score  = grid_result.cv_results_['std_test_score']\n",
    "\n",
    "for m, s, p in zip(mean_score, std_score, paramaters):\n",
    "    print(\"%f (%f) using %r\" % (m, s, p))"
   ]
  },
  {
   "cell_type": "markdown",
   "metadata": {},
   "source": [
    ">* Лучшие значения с точностью 86,8% и потерями 0,007:\n",
    ">  * batch 32,\n",
    ">  * epoch 4,"
   ]
  },
  {
   "cell_type": "code",
   "execution_count": 102,
   "metadata": {},
   "outputs": [],
   "source": [
    "def model_grid(optimizer='adam'):\n",
    "    inp = Input(shape=(maxlen, ))\n",
    "    x = Embedding(max_features, embed_size, weights=[embedding_matrix])(inp)\n",
    "    x = SpatialDropout1D(0.2)(x)\n",
    "    x = Bidirectional(GRU(80, return_sequences=True))(x)\n",
    "    avg_pool = GlobalAveragePooling1D()(x)\n",
    "    max_pool = GlobalMaxPooling1D()(x)\n",
    "    conc = concatenate([avg_pool, max_pool])\n",
    "    outp = Dense(4, activation=\"sigmoid\")(conc)\n",
    "    model = Model(inputs=inp, outputs=outp)\n",
    "    \n",
    "    model.compile(loss='binary_crossentropy',\n",
    "                         optimizer=optimizer,\n",
    "                         metrics=['accuracy', 'AUC', tf.keras.metrics.Recall(), tf.keras.metrics.Precision()])\n",
    "\n",
    "    return model"
   ]
  },
  {
   "cell_type": "code",
   "execution_count": null,
   "metadata": {},
   "outputs": [],
   "source": [
    "# print result of grid search\n",
    "print(\"Top score: %f by using %s\" % (grid_result.best_score_, grid_result.best_params_))\n",
    "print()\n",
    "\n",
    "top_dropout_rate = grid_result.best_params_.get('dropout_rate')\n",
    "\n",
    "mean_score = grid_result.cv_results_['mean_test_score']\n",
    "paramaters = grid_result.cv_results_['params']\n",
    "std_score  = grid_result.cv_results_['std_test_score']\n",
    "\n",
    "for m, s, p in zip(mean_score, std_score, paramaters):\n",
    "    print(\"%f (%f) using %r\" % (m, s, p))"
   ]
  },
  {
   "cell_type": "code",
   "execution_count": null,
   "metadata": {},
   "outputs": [],
   "source": [
    "seed = 7\n",
    "np.random.seed(seed)\n",
    "\n",
    "model = KerasClassifier(build_fn = model_grid, epochs = top_epochs, batch_size = top_batch_size, verbose=1)\n",
    "\n",
    "optimizer = ['SGD', 'Adam', 'Adamax']\n",
    "\n",
    "param_grid = dict(optimizer=optimizer)\n",
    "\n",
    "#Grid search for best parameter\n",
    "grid = GridSearchCV(estimator=model, param_grid=param_grid, cv = 5)\n",
    "\n",
    "grid_result = grid.fit(feature_train[:3000], target_train[:3000])"
   ]
  },
  {
   "cell_type": "code",
   "execution_count": 122,
   "metadata": {},
   "outputs": [
    {
     "name": "stdout",
     "output_type": "stream",
     "text": [
      "Top score: 0.868000 by using {'batch_size': 32, 'epochs': 5}\n",
      "\n",
      "0.851667 (0.002055) using {'batch_size': 32, 'epochs': 3}\n",
      "0.863667 (0.020726) using {'batch_size': 32, 'epochs': 4}\n",
      "0.868000 (0.009626) using {'batch_size': 32, 'epochs': 5}\n",
      "0.854667 (0.013888) using {'batch_size': 40, 'epochs': 3}\n",
      "0.863667 (0.020758) using {'batch_size': 40, 'epochs': 4}\n",
      "0.849333 (0.020806) using {'batch_size': 40, 'epochs': 5}\n",
      "0.845333 (0.015326) using {'batch_size': 50, 'epochs': 3}\n",
      "0.857333 (0.020072) using {'batch_size': 50, 'epochs': 4}\n",
      "0.865000 (0.015122) using {'batch_size': 50, 'epochs': 5}\n"
     ]
    }
   ],
   "source": [
    "# print result of grid search\n",
    "print(\"Top score: %f by using %s\" % (grid_result.best_score_, grid_result.best_params_))\n",
    "print()\n",
    "\n",
    "top_optimizer = grid_result.best_params_.get('optimizer')\n",
    "\n",
    "mean_score = grid_result.cv_results_['mean_test_score']\n",
    "paramaters = grid_result.cv_results_['params']\n",
    "std_score  = grid_result.cv_results_['std_test_score']\n",
    "\n",
    "for m, s, p in zip(mean_score, std_score, paramaters):\n",
    "    print(\"%f (%f) using %r\" % (m, s, p))"
   ]
  },
  {
   "cell_type": "markdown",
   "metadata": {},
   "source": [
    "Модель имеет наивысшую точность и наименьшую погрешность с оптимизатором Adam."
   ]
  },
  {
   "cell_type": "markdown",
   "metadata": {},
   "source": [
    "### LEARNINIG RATE"
   ]
  },
  {
   "cell_type": "markdown",
   "metadata": {},
   "source": [
    "I will check the models performance with learning rates between 0.0001 and 0.1"
   ]
  },
  {
   "cell_type": "code",
   "execution_count": 123,
   "metadata": {},
   "outputs": [],
   "source": [
    "top_optimizer = tf.keras.optimizers.Adam\n",
    "def model_learning_rate(learn_rate=0.01):\n",
    "    inp = Input(shape=(maxlen, ))\n",
    "    x = Embedding(max_features, embed_size, weights=[embedding_matrix])(inp)\n",
    "    x = SpatialDropout1D(0.2)(x)\n",
    "    x = Bidirectional(GRU(80, return_sequences=True))(x)\n",
    "    avg_pool = GlobalAveragePooling1D()(x)\n",
    "    max_pool = GlobalMaxPooling1D()(x)\n",
    "    conc = concatenate([avg_pool, max_pool])\n",
    "    outp = Dense(4, activation=\"sigmoid\")(conc)\n",
    "    model = Model(inputs=inp, outputs=outp)\n",
    "    \n",
    "    model.compile(loss='binary_crossentropy',\n",
    "                         optimizer = top_optimizer(learn_rate),\n",
    "                         metrics=['accuracy', 'AUC', tf.keras.metrics.Recall(), tf.keras.metrics.Precision()])\n",
    "\n",
    "    return model"
   ]
  },
  {
   "cell_type": "code",
   "execution_count": null,
   "metadata": {},
   "outputs": [],
   "source": [
    "seed = 7\n",
    "np.random.seed(seed)\n",
    "\n",
    "model = KerasClassifier(build_fn=model_learning_rate, epochs = top_epochs, batch_size = top_batch_size, verbose=1)\n",
    "\n",
    "learn_rate = [0.0001,0.001,0.01,0.1]\n",
    "param_grid = dict(learn_rate=learn_rate)\n",
    "\n",
    "#Grid search for best parameter\n",
    "grid = GridSearchCV(estimator=model, param_grid=param_grid,  cv = 5)\n",
    "\n",
    "grid_result = grid.fit(feature_train[:3000], target_train[:3000])"
   ]
  },
  {
   "cell_type": "code",
   "execution_count": 127,
   "metadata": {},
   "outputs": [
    {
     "name": "stdout",
     "output_type": "stream",
     "text": [
      "Top score: 0.868667 by using {'learn_rate': 0.001}\n",
      "\n",
      "0.827333 (0.013233) using {'learn_rate': 0.0001}\n",
      "0.868667 (0.018209) using {'learn_rate': 0.001}\n",
      "0.866667 (0.013864) using {'learn_rate': 0.01}\n",
      "0.789000 (0.048963) using {'learn_rate': 0.1}\n"
     ]
    }
   ],
   "source": [
    "# print result of grid search\n",
    "print(\"Top score: %f by using %s\" % (grid_result.best_score_, grid_result.best_params_))\n",
    "print()\n",
    "\n",
    "top_learning_rate = grid_result.best_params_.get('learn_rate')\n",
    "\n",
    "mean_score = grid_result.cv_results_['mean_test_score']\n",
    "paramaters = grid_result.cv_results_['params']\n",
    "std_score  = grid_result.cv_results_['std_test_score']\n",
    "\n",
    "for m, s, p in zip(mean_score, std_score, paramaters):\n",
    "    print(\"%f (%f) using %r\" % (m, s, p))"
   ]
  },
  {
   "cell_type": "markdown",
   "metadata": {},
   "source": [
    ">* Скорость обучения 0,1 показывает наивысшую точность, но не самую низкую ошибку.\n",
    "> * Выбор такой высокой скорости обучения приведет к очень быстрому обучению модели на данных и вызовет переобучение или недообучение.\n",
    "> * Я выберу оптимальную скорость обучения 0,02, что дает второй лучший результат."
   ]
  },
  {
   "cell_type": "markdown",
   "metadata": {},
   "source": [
    "### Dropout rate"
   ]
  },
  {
   "cell_type": "markdown",
   "metadata": {},
   "source": [
    "Исследуем производительность модели с dropout_rate от 0 до 0,4"
   ]
  },
  {
   "cell_type": "code",
   "execution_count": 133,
   "metadata": {},
   "outputs": [],
   "source": [
    "def model_dropout_rate(dropout_rate=0.0):\n",
    "    inp = Input(shape=(maxlen, ))\n",
    "    x = Embedding(max_features, embed_size, weights=[embedding_matrix])(inp)\n",
    "    x = SpatialDropout1D(dropout_rate)(x)\n",
    "    x = Bidirectional(GRU(80, return_sequences=True))(x)\n",
    "    avg_pool = GlobalAveragePooling1D()(x)\n",
    "    max_pool = GlobalMaxPooling1D()(x)\n",
    "    conc = concatenate([avg_pool, max_pool])\n",
    "    outp = Dense(4, activation=\"sigmoid\")(conc)\n",
    "    model = Model(inputs=inp, outputs=outp)\n",
    "    \n",
    "    model.compile(loss='binary_crossentropy',\n",
    "                         optimizer = top_optimizer(lr=top_learning_rate),\n",
    "                         metrics=['accuracy', 'AUC', tf.keras.metrics.Recall(), tf.keras.metrics.Precision()])\n",
    "\n",
    "    return model"
   ]
  },
  {
   "cell_type": "code",
   "execution_count": null,
   "metadata": {},
   "outputs": [],
   "source": [
    "seed = 7\n",
    "np.random.seed(seed)\n",
    "\n",
    "model = KerasClassifier(build_fn = model_dropout_rate, epochs = top_epochs, batch_size = top_batch_size, verbose=0)\n",
    "\n",
    "dropout_rate = [0.0, 0.1, 0.2, 0.3, 0.4] \n",
    "\n",
    "param_grid = dict(dropout_rate=dropout_rate)\n",
    "\n",
    "#Grid search for best parameter\n",
    "grid = GridSearchCV(estimator=model, param_grid=param_grid, cv = 5, n_jobs =1)\n",
    "\n",
    "grid_result = grid.fit(feature_train[:30000], target_train[:30000])"
   ]
  },
  {
   "cell_type": "code",
   "execution_count": null,
   "metadata": {},
   "outputs": [],
   "source": [
    "# print result of grid search\n",
    "print(\"Top score: %f by using %s\" % (grid_result.best_score_, grid_result.best_params_))\n",
    "print()\n",
    "\n",
    "top_dropout_rate = grid_result.best_params_.get('dropout_rate')\n",
    "\n",
    "mean_score = grid_result.cv_results_['mean_test_score']\n",
    "paramaters = grid_result.cv_results_['params']\n",
    "std_score  = grid_result.cv_results_['std_test_score']\n",
    "\n",
    "for m, s, p in zip(mean_score, std_score, paramaters):\n",
    "    print(\"%f (%f) using %r\" % (m, s, p))"
   ]
  },
  {
   "cell_type": "markdown",
   "metadata": {},
   "source": [
    "> Лучшее качество модели при использовать dropout_rate 0,3."
   ]
  },
  {
   "cell_type": "markdown",
   "metadata": {},
   "source": [
    "### FINAL MODEL"
   ]
  },
  {
   "cell_type": "code",
   "execution_count": 44,
   "metadata": {},
   "outputs": [],
   "source": [
    "# best parametr\n",
    "top_batch_size = 256\n",
    "top_epochs = 4\n",
    "# top_optimizer = Adam\n",
    "top_learning_rate = 0.01\n",
    "top_dropout_rate = 0.4"
   ]
  },
  {
   "cell_type": "code",
   "execution_count": 45,
   "metadata": {},
   "outputs": [],
   "source": [
    "def model_final( learning_rate, dropout_rate):\n",
    "    inp = Input(shape=(maxlen, ))\n",
    "    x = Embedding(max_features, embed_size, weights=[embedding_matrix])(inp)\n",
    "    x = SpatialDropout1D(top_dropout_rate)(x)\n",
    "    x = Bidirectional(GRU(80, return_sequences=True))(x)\n",
    "    avg_pool = GlobalAveragePooling1D()(x)\n",
    "    max_pool = GlobalMaxPooling1D()(x)\n",
    "    conc = concatenate([avg_pool, max_pool])\n",
    "    outp = Dense(4, activation=\"sigmoid\")(conc)\n",
    "    model = Model(inputs=inp, outputs=outp)\n",
    "    \n",
    "    model.compile(loss='binary_crossentropy',\n",
    "                  optimizer = tf.keras.optimizers.Adam(learning_rate=learning_rate),\n",
    "                  metrics=['accuracy', 'AUC', tf.keras.metrics.Recall(), tf.keras.metrics.Precision()])\n",
    "\n",
    "    return model"
   ]
  },
  {
   "cell_type": "code",
   "execution_count": 46,
   "metadata": {},
   "outputs": [],
   "source": [
    "def model_run(X, y, batch_size, n_epochs, learning_rate, dropout_rate):\n",
    "    \n",
    "    model = model_final( learning_rate, dropout_rate)\n",
    "    history = model.fit(X, y,\n",
    "              batch_size = batch_size,\n",
    "              epochs = n_epochs,\n",
    "              validation_split=0.1)\n",
    "    \n",
    "    return (history, model)\n"
   ]
  },
  {
   "cell_type": "code",
   "execution_count": null,
   "metadata": {},
   "outputs": [],
   "source": [
    "history_2, model_2 = model_run(feature_train[:3000], target_train[:3000], top_batch_size, top_epochs, top_learning_rate, top_dropout_rate)"
   ]
  },
  {
   "cell_type": "code",
   "execution_count": 153,
   "metadata": {},
   "outputs": [
    {
     "name": "stdout",
     "output_type": "stream",
     "text": [
      "Validation set\n",
      "loss: 0.0866597443819046\n",
      "accuracy: 0.9468363523483276\n"
     ]
    }
   ],
   "source": [
    "model_evalulate(model_2)"
   ]
  },
  {
   "cell_type": "code",
   "execution_count": 154,
   "metadata": {},
   "outputs": [
    {
     "data": {
      "image/png": "[encoded data removed]",
      "text/plain": [
       "<Figure size 576x360 with 1 Axes>"
      ]
     },
     "metadata": {},
     "output_type": "display_data"
    }
   ],
   "source": [
    "plot_history(history_2)"
   ]
  },
  {
   "cell_type": "code",
   "execution_count": 48,
   "metadata": {},
   "outputs": [
    {
     "name": "stdout",
     "output_type": "stream",
     "text": [
      "1552/1552 [==============================] - 113s 73ms/step\n"
     ]
    }
   ],
   "source": [
    "y_pred = model_2.predict(feature_test, verbose = 1, batch_size = 32)"
   ]
  },
  {
   "cell_type": "code",
   "execution_count": 156,
   "metadata": {},
   "outputs": [
    {
     "data": {
      "image/png": "[encoded data removed]",
      "text/plain": [
       "<Figure size 432x288 with 1 Axes>"
      ]
     },
     "metadata": {},
     "output_type": "display_data"
    }
   ],
   "source": [
    "# график ROC AUC\n",
    "from sklearn.metrics import roc_curve, auc\n",
    "\n",
    "def plot_roc(y, y_pred, colors):\n",
    "    fpr, tpr, thresholds = roc_curve(y, y_pred)\n",
    "    plt.plot(fpr, tpr, color=colors, lw = 1.5, label='ROC AUC')\n",
    "    plt.plot([0, 1], [0, 1], color='lightgrey', lw = 1, linestyle='--')\n",
    "    plt.xlabel('False Positive')\n",
    "    plt.ylabel('True Positive')\n",
    "    plt.title('ROC Curve')\n",
    "plot_roc(target_test[:, 0], y_pred[:, 0],'gold')\n",
    "plot_roc(target_test[:, 1], y_pred[:, 1],\"pink\")\n",
    "plot_roc(target_test[:, 2], y_pred[:, 2],\"purple\")\n",
    "plot_roc(target_test[:, 3], y_pred[:, 3],\"b\")"
   ]
  },
  {
   "cell_type": "code",
   "execution_count": 171,
   "metadata": {},
   "outputs": [],
   "source": [
    "from sklearn.metrics import accuracy_score, confusion_matrix,classification_report\n",
    "\n",
    "def cm_for_each_label(Y, Y_pred,threshold,ClassName):\n",
    "\n",
    "    Y_cls = Y\n",
    "    Y_pred_cls = (Y_pred > threshold).astype(float)\n",
    "    \n",
    "    accuracy = accuracy_score(Y_cls, Y_pred_cls) \n",
    "    print(\"Accuracy Score: {}\\n\".format(accuracy))\n",
    " \n",
    "#     print(\"Confusion Matrix:\")\n",
    "#     cm = confusion_matrix(Y_cls, Y_pred_cls)\n",
    "#     print(cm)\n",
    "\n",
    "#     ax= plt.subplot()\n",
    "#     sns.heatmap(cm, annot=True, ax = ax,cmap='Blues')\n",
    "   \n",
    "#     plt.xlabel('Predicted')\n",
    "#     plt.ylabel('Actual')\n",
    "#     plt.suptitle(ClassName)\n",
    "    print()\n",
    "    print(\"Classification Report\")\n",
    "    print(classification_report(Y_cls, Y_pred_cls, target_names=[\"TRUE\",\"FALSE\"]))"
   ]
  },
  {
   "cell_type": "code",
   "execution_count": 173,
   "metadata": {},
   "outputs": [
    {
     "name": "stdout",
     "output_type": "stream",
     "text": [
      "Accuracy Score: 0.9627854524950663\n",
      "\n",
      "\n",
      "Classification Report\n",
      "              precision    recall  f1-score   support\n",
      "\n",
      "        TRUE       0.90      0.90      0.90      9004\n",
      "       FALSE       0.98      0.98      0.98     40654\n",
      "\n",
      "    accuracy                           0.96     49658\n",
      "   macro avg       0.94      0.94      0.94     49658\n",
      "weighted avg       0.96      0.96      0.96     49658\n",
      "\n",
      "None\n",
      "Accuracy Score: 0.9581134963147931\n",
      "\n",
      "\n",
      "Classification Report\n",
      "              precision    recall  f1-score   support\n",
      "\n",
      "        TRUE       0.98      0.97      0.98     42208\n",
      "       FALSE       0.85      0.87      0.86      7450\n",
      "\n",
      "    accuracy                           0.96     49658\n",
      "   macro avg       0.91      0.92      0.92     49658\n",
      "weighted avg       0.96      0.96      0.96     49658\n",
      "\n",
      "None\n",
      "Accuracy Score: 0.9807684562406863\n",
      "\n",
      "\n",
      "Classification Report\n",
      "              precision    recall  f1-score   support\n",
      "\n",
      "        TRUE       0.99      0.99      0.99     47223\n",
      "       FALSE       0.80      0.81      0.81      2435\n",
      "\n",
      "    accuracy                           0.98     49658\n",
      "   macro avg       0.89      0.90      0.90     49658\n",
      "weighted avg       0.98      0.98      0.98     49658\n",
      "\n",
      "None\n",
      "Accuracy Score: 0.9917636634580531\n",
      "\n",
      "\n",
      "Classification Report\n",
      "              precision    recall  f1-score   support\n",
      "\n",
      "        TRUE       0.99      1.00      1.00     48772\n",
      "       FALSE       0.82      0.69      0.75       886\n",
      "\n",
      "    accuracy                           0.99     49658\n",
      "   macro avg       0.91      0.84      0.87     49658\n",
      "weighted avg       0.99      0.99      0.99     49658\n",
      "\n",
      "None\n"
     ]
    }
   ],
   "source": [
    "for i in range(4):\n",
    "    print(cm_for_each_label(target_test[:, i], y_pred[:, i], 0.5, \"Class: Toxic\"))"
   ]
  },
  {
   "cell_type": "code",
   "execution_count": 84,
   "metadata": {},
   "outputs": [
    {
     "name": "stdout",
     "output_type": "stream",
     "text": [
      "1/1 [==============================] - 0s 2ms/step\n",
      "отсоси \n",
      "\n",
      "normal insult threat obscenity\n",
      "0.0003 0.3323 0.0015 0.9860 \n",
      "\n"
     ]
    }
   ],
   "source": [
    "texts = ['у тебя кожа как у старушки']\n",
    "\n",
    "max_features = 30000\n",
    "maxlen = 100\n",
    "\n",
    "token_texts = tokenizer.texts_to_sequences(texts)\n",
    "texts_seq = sequence.pad_sequences(token_texts, maxlen=maxlen)\n",
    "\n",
    "y_pred_pred = model_2.predict(texts_seq, verbose = 1, batch_size = 2)\n",
    "\n",
    "for i in y_pred_pred:\n",
    "    print(texts[0],'\\n')\n",
    "    print(\"normal\", \"insult\", \"threat\", \"obscenity\")\n",
    "    for j in i:\n",
    "        print('{:.4f}'.format(j), end=' ')\n",
    "    print('\\n')"
   ]
  },
  {
   "cell_type": "code",
   "execution_count": null,
   "metadata": {},
   "outputs": [],
   "source": []
  }
 ],
 "metadata": {
  "kernelspec": {
   "display_name": "Python 3",
   "language": "python",
   "name": "python3"
  },
  "language_info": {
   "codemirror_mode": {
    "name": "ipython",
    "version": 3
   },
   "file_extension": ".py",
   "mimetype": "text/x-python",
   "name": "python",
   "nbconvert_exporter": "python",
   "pygments_lexer": "ipython3",
   "version": "3.8.5"
  }
 },
 "nbformat": 4,
 "nbformat_minor": 4
}
